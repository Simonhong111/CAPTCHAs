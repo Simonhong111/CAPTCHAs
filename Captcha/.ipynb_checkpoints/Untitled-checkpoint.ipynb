{
 "cells": [
  {
   "cell_type": "code",
   "execution_count": null,
   "metadata": {
    "collapsed": true
   },
   "outputs": [],
   "source": []
  },
  {
   "cell_type": "code",
   "execution_count": 5,
   "metadata": {
    "collapsed": false
   },
   "outputs": [
    {
     "ename": "SyntaxError",
     "evalue": "invalid syntax (<ipython-input-5-4e54788df1d3>, line 22)",
     "output_type": "error",
     "traceback": [
      "\u001b[0;36m  File \u001b[0;32m\"<ipython-input-5-4e54788df1d3>\"\u001b[0;36m, line \u001b[0;32m22\u001b[0m\n\u001b[0;31m    if _line_status -<>- line_status:\u001b[0m\n\u001b[0m                      ^\u001b[0m\n\u001b[0;31mSyntaxError\u001b[0m\u001b[0;31m:\u001b[0m invalid syntax\n"
     ]
    }
   ],
   "source": [
    "def split(img):\n",
    "    \"\"\"  用竖线扫描分隔文字\n",
    "    \"\"\"\n",
    "\n",
    "    frame = img.load()\n",
    "    img_new = img.copy()\n",
    "    frame_new = img_new.load()\n",
    "\n",
    "    width, heigth = img.size\n",
    "    line_status = None\n",
    "    pos_x = []\n",
    "    for x in xrange(width):\n",
    "        pixs = []\n",
    "        for y in xrange(heigth):\n",
    "            pixs.append(frame[x, y])\n",
    "\n",
    "        if len(set(pixs)) == 1:\n",
    "            _line_status = 0\n",
    "        else:\n",
    "            _line_status = 1\n",
    "\n",
    "        if _line_status <> line_status:\n",
    "            if line_status <> None:\n",
    "                if _line_status == 0:\n",
    "                    _x = x\n",
    "                elif _line_status == 1:\n",
    "                    _x = x-1\n",
    "\n",
    "                pos_x.append(_x)\n",
    "                \n",
    "                # 辅助线\n",
    "                for _y in xrange(heigth):\n",
    "                    frame_new[x, _y] = BLACK\n",
    "\n",
    "        line_status = _line_status\n",
    "\n",
    "    #img_new.show()\n",
    "    # 开始切分\n",
    "    i = 0\n",
    "    divs = []\n",
    "    boxs = []\n",
    "    while True:\n",
    "        try:\n",
    "            xi = pos_x[i]\n",
    "            xj = pos_x[i+1]\n",
    "        except:\n",
    "            break\n",
    "\n",
    "        i += 2\n",
    "        boxs.append([xi, xj])\n",
    "\n",
    "    fixed_boxs = []\n",
    "    i = 0\n",
    "    while i < len(boxs):\n",
    "        box = boxs[i]\n",
    "        if box[1] - box[0] < 10:\n",
    "            try:\n",
    "                box_next = boxs[i+1]\n",
    "                fixed_boxs.append([box[0], box_next[1]])\n",
    "                i += 2\n",
    "            except Exception, e:\n",
    "                break\n",
    "        else:\n",
    "            fixed_boxs.append(box)\n",
    "            i+=1\n",
    "\n",
    "\n",
    "    for box in fixed_boxs:\n",
    "        div = img.crop((box[0], 0, box[1], heigth))\n",
    "        try:\n",
    "            divs.append(format_div(div, size=(20, 40)))\n",
    "        except:\n",
    "            divs.append(div)\n",
    "\n",
    "    # 过滤掉非字符的切片\n",
    "    _divs = []\n",
    "    for div in divs:\n",
    "        width, heigth = div.size\n",
    "        if width < 5:\n",
    "            continue\n",
    "\n",
    "        frame = div.load()\n",
    "        points = 0\n",
    "        for i in xrange(width):\n",
    "            for j in xrange(heigth):\n",
    "                p = frame[i, j]\n",
    "                if p == BLACK:\n",
    "                    points += 1\n",
    "\n",
    "        # 单张图片中至少有N个黑色点\n",
    "        if points <= 5:\n",
    "            continue\n",
    "        \n",
    "        new_div = format_div(div) \n",
    "        _divs.append(new_div)\n",
    "    \n",
    "    return _divs"
   ]
  },
  {
   "cell_type": "code",
   "execution_count": 1,
   "metadata": {
    "collapsed": false
   },
   "outputs": [
    {
     "ename": "NameError",
     "evalue": "name 'split' is not defined",
     "output_type": "error",
     "traceback": [
      "\u001b[0;31m---------------------------------------------------------------------------\u001b[0m",
      "\u001b[0;31mNameError\u001b[0m                                 Traceback (most recent call last)",
      "\u001b[0;32m<ipython-input-1-564df0866215>\u001b[0m in \u001b[0;36m<module>\u001b[0;34m()\u001b[0m\n\u001b[0;32m----> 1\u001b[0;31m \u001b[0mim1\u001b[0m \u001b[1;33m=\u001b[0m \u001b[0msplit\u001b[0m\u001b[1;33m(\u001b[0m\u001b[1;34m'BW_112.bmp'\u001b[0m\u001b[1;33m)\u001b[0m\u001b[1;33m\u001b[0m\u001b[0m\n\u001b[0m",
      "\u001b[0;31mNameError\u001b[0m: name 'split' is not defined"
     ]
    }
   ],
   "source": [
    "im1 = split('BW_112.bmp')"
   ]
  },
  {
   "cell_type": "code",
   "execution_count": null,
   "metadata": {
    "collapsed": true
   },
   "outputs": [],
   "source": []
  }
 ],
 "metadata": {
  "kernelspec": {
   "display_name": "Python 3",
   "language": "python",
   "name": "python3"
  },
  "language_info": {
   "codemirror_mode": {
    "name": "ipython",
    "version": 3
   },
   "file_extension": ".py",
   "mimetype": "text/x-python",
   "name": "python",
   "nbconvert_exporter": "python",
   "pygments_lexer": "ipython3",
   "version": "3.5.2"
  }
 },
 "nbformat": 4,
 "nbformat_minor": 2
}
