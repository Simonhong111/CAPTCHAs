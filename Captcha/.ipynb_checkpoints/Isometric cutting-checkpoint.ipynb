{
 "cells": [
  {
   "cell_type": "code",
   "execution_count": 3,
   "metadata": {
    "collapsed": true
   },
   "outputs": [],
   "source": [
    "from PIL import Image"
   ]
  },
  {
   "cell_type": "code",
   "execution_count": 4,
   "metadata": {
    "collapsed": true
   },
   "outputs": [],
   "source": [
    "def get_crop_imgs(img):\n",
    "    \"\"\"\n",
    "    按照图片的特点,进行切割,这个要根据具体的验证码来进行工作. # 见原理图\n",
    "    :param img:\n",
    "    :return:\n",
    "    \"\"\"\n",
    "    child_img_list = []\n",
    "    for i in range(4):\n",
    "        x = 35 + i * (18 + 6)  # 见原理图\n",
    "        y = 2\n",
    "        child_img = img.crop((x, y, x + 20, y + 31))\n",
    "        child_img_list.append(child_img)\n",
    "\n",
    "    return child_img_list"
   ]
  },
  {
   "cell_type": "code",
   "execution_count": null,
   "metadata": {
    "collapsed": true
   },
   "outputs": [],
   "source": [
    "im=Image.open('test.jpg')"
   ]
  }
 ],
 "metadata": {
  "kernelspec": {
   "display_name": "Python 3",
   "language": "python",
   "name": "python3"
  },
  "language_info": {
   "codemirror_mode": {
    "name": "ipython",
    "version": 3
   },
   "file_extension": ".py",
   "mimetype": "text/x-python",
   "name": "python",
   "nbconvert_exporter": "python",
   "pygments_lexer": "ipython3",
   "version": "3.5.2"
  }
 },
 "nbformat": 4,
 "nbformat_minor": 2
}
