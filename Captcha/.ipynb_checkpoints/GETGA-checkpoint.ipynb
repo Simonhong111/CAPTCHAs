{
 "cells": [
  {
   "cell_type": "code",
   "execution_count": 5,
   "metadata": {
    "collapsed": true
   },
   "outputs": [],
   "source": [
    "from PIL import Image,ImageDraw,ImageFont\n",
    "import random\n",
    "import math"
   ]
  },
  {
   "cell_type": "code",
   "execution_count": 10,
   "metadata": {
    "collapsed": false
   },
   "outputs": [],
   "source": [
    "'''基本功能'''\n",
    "#图片宽度\n",
    "width = 28\n",
    "#图片高度\n",
    "height = 35\n",
    "#背景颜色\n",
    "bgcolor = (255,255,255)\n",
    "#生成背景图片\n",
    "image = Image.new('RGB',(width,height),bgcolor)\n",
    "#加载字体\n",
    "font = ImageFont.truetype('C:\\Windows\\Fonts\\Arial.ttf',30)\n",
    "#字体颜色\n",
    "fontcolor = (0,0,0)\n",
    "#产生draw对象，draw是一些算法的集合\n",
    "draw = ImageDraw.Draw(image)\n",
    "#画字体,(0,0)是起始位置\n",
    "draw.text((0,0),'A',font=font,fill=fontcolor)\n",
    "#释放draw\n",
    "del draw\n",
    "#保存原始版本\n",
    "image.save('1234_1.jpeg')\n",
    "'''演示扭曲，需要新建一个图片对象'''\n",
    "#新图片\n",
    "newImage = Image.new('RGB',(width,height),bgcolor)\n",
    "#load像素\n",
    "newPix = newImage.load()\n",
    "pix = image.load()\n",
    "offset = 0\n",
    "for y in range(0,height):\n",
    "    offset += 1\n",
    "    for x in range(0,width):\n",
    "        #新的x坐标点\n",
    "        newx = x + offset\n",
    "        #你可以试试如下的效果\n",
    "        #newx = x + math.sin(float(y)/10)*10\n",
    "        if newx < width:                        \n",
    "            #把源像素通过偏移到新的像素点\n",
    "            newPix[newx,y] = pix[x,y]\n",
    "#保存扭曲后的版本            \n",
    "newImage.save('1234_2.jpeg')\n",
    "'''形变一下'''\n",
    "#x1 = ax+by+c\n",
    "#y1 = dx+ey+f\n",
    "newImage = image.transform((width,height), Image.AFFINE, (1,-0.3,0,-0.1,1,0))\n",
    "newImage.save('1234_3.jpeg')\n",
    "'''画干扰线，别画太多，免得用户都看不清楚'''        \n",
    "#创建draw，画线用\n",
    "draw = ImageDraw.Draw(newImage)\n",
    "#线的颜色\n",
    "linecolor= (0,0,0)\n",
    "for i in range(0,15):\n",
    "    #都是随机的\n",
    "    x1 = random.randint(0,width)\n",
    "    x2 = random.randint(0,width)\n",
    "    y1 = random.randint(0,height)\n",
    "    y2 = random.randint(0,height)\n",
    "    draw.line([(x1, y1), (x2, y2)], linecolor)            \n",
    "\n",
    "#保存到本地\n",
    "newImage.save('1234_4.jpeg')"
   ]
  },
  {
   "cell_type": "code",
   "execution_count": null,
   "metadata": {
    "collapsed": true
   },
   "outputs": [],
   "source": []
  }
 ],
 "metadata": {
  "kernelspec": {
   "display_name": "Python 3",
   "language": "python",
   "name": "python3"
  },
  "language_info": {
   "codemirror_mode": {
    "name": "ipython",
    "version": 3
   },
   "file_extension": ".py",
   "mimetype": "text/x-python",
   "name": "python",
   "nbconvert_exporter": "python",
   "pygments_lexer": "ipython3",
   "version": "3.5.2"
  }
 },
 "nbformat": 4,
 "nbformat_minor": 2
}
